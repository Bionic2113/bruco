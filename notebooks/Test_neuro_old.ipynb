{
 "cells": [
  {
   "cell_type": "code",
   "execution_count": 1,
   "id": "53e11acd",
   "metadata": {},
   "outputs": [],
   "source": [
    "import numpy as np\n",
    "import matplotlib.pyplot as plt\n",
    "import tensorflow as tf\n",
    "from tensorflow import keras\n",
    "%matplotlib inline\n",
    "from tensorflow.keras.models import Sequential\n",
    "from tensorflow.keras.layers import Dense, Dropout, Conv2D, InputLayer, MaxPooling2D\n",
    "from tensorflow.keras import utils"
   ]
  },
  {
   "cell_type": "code",
   "execution_count": 4,
   "id": "fcd6f923",
   "metadata": {},
   "outputs": [],
   "source": [
    "# загрузка датасета\n",
    "data = np.load('D:\\\\caterpillar\\\\new_dataset_rgb.npz')"
   ]
  },
  {
   "cell_type": "code",
   "execution_count": 5,
   "id": "55719a62",
   "metadata": {},
   "outputs": [],
   "source": [
    "x_train = data['x_train']\n",
    "y_train = data['y_train']\n",
    "x_test = data['x_test']\n",
    "y_test = data['y_test']\n",
    "\n"
   ]
  },
  {
   "cell_type": "code",
   "execution_count": null,
   "id": "89338e39",
   "metadata": {},
   "outputs": [],
   "source": [
    "class_names = ['автотовары', 'ванная', 'дляВзрослых',  'игрушки']"
   ]
  },
  {
   "cell_type": "code",
   "execution_count": null,
   "id": "8a03e268",
   "metadata": {},
   "outputs": [],
   "source": [
    "plt.figure()\n",
    "plt.imshow(x_train[0])\n",
    "plt.colorbar()\n",
    "plt.grid(False)"
   ]
  },
  {
   "cell_type": "code",
   "execution_count": null,
   "id": "9786b426",
   "metadata": {},
   "outputs": [],
   "source": [
    "plt.figure(figsize = (10,10))\n",
    "for i in range(25):\n",
    "    plt.subplot(5,5,i+1)\n",
    "    plt.xticks([])\n",
    "    plt.yticks([])\n",
    "    plt.imshow(x_train[i], cmap = plt.cm.binary)\n",
    "    plt.xlabel(class_names[y_train[i]])"
   ]
  },
  {
   "cell_type": "code",
   "execution_count": null,
   "id": "968ea61d",
   "metadata": {},
   "outputs": [],
   "source": [
    "plt.figure()\n",
    "plt.imshow(x_train[0])\n",
    "plt.colorbar()\n",
    "plt.grid(False)\n",
    "plt.xlabel(class_names[y_train[0]])"
   ]
  },
  {
   "cell_type": "code",
   "execution_count": null,
   "id": "6ac62fb1",
   "metadata": {},
   "outputs": [],
   "source": [
    "print(x_train[0].shape)"
   ]
  },
  {
   "cell_type": "code",
   "execution_count": null,
   "id": "65db46e9",
   "metadata": {},
   "outputs": [],
   "source": [
    "print(len(x_train[0]))"
   ]
  },
  {
   "cell_type": "code",
   "execution_count": null,
   "id": "86155dcc",
   "metadata": {},
   "outputs": [],
   "source": [
    "x_train = x_train/ 255\n",
    "x_test = x_test/ 255"
   ]
  },
  {
   "cell_type": "code",
   "execution_count": null,
   "id": "e64a1c7e",
   "metadata": {},
   "outputs": [],
   "source": [
    "# x_train = x_train/ 255\n",
    "# part_size = x_train.shape[0]/10\n",
    "# parts="
   ]
  },
  {
   "cell_type": "code",
   "execution_count": 2,
   "id": "6e2bdc4e",
   "metadata": {},
   "outputs": [],
   "source": [
    "model = keras.Sequential([\n",
    "                          keras.layers.InputLayer(input_shape=(320, 320, 3)),# указан размер картинки и количество цветов это для Conv2D\n",
    "                          keras.layers.Conv2D(64, (3, 3), activation='relu', padding='same'),\n",
    "                          keras.layers.Conv2D(128, (3, 3), activation='relu', padding='same'),\n",
    "                          keras.layers.MaxPooling2D(2, 2),\n",
    "                          keras.layers.Conv2D(128, (3, 3), activation='relu', padding='same'),\n",
    "                          keras.layers.Conv2D(256, (3, 3), activation='relu', padding='same'),\n",
    "                          keras.layers.MaxPooling2D(2, 2),\n",
    "                          keras.layers.Flatten(),# это надо для того, чтобы Dense смогло зайти\n",
    "                          keras.layers.Dense(80, activation=\"relu\"),\n",
    "                          keras.layers.Dense(30, activation=\"relu\"),\n",
    "  \n",
    "                          keras.layers.Dense(4, activation=\"softmax\")\n",
    "])"
   ]
  },
  {
   "cell_type": "code",
   "execution_count": 13,
   "id": "64da331f",
   "metadata": {},
   "outputs": [],
   "source": [
    "model.compile(optimizer=tf.keras.optimizers.Adam(), loss='sparse_categorical_crossentropy', metrics=['accuracy'])"
   ]
  },
  {
   "cell_type": "code",
   "execution_count": 14,
   "id": "2dfadfc9",
   "metadata": {},
   "outputs": [
    {
     "name": "stdout",
     "output_type": "stream",
     "text": [
      "Model: \"sequential\"\n",
      "_________________________________________________________________\n",
      " Layer (type)                Output Shape              Param #   \n",
      "=================================================================\n",
      " conv2d (Conv2D)             (None, 320, 320, 64)      1792      \n",
      "                                                                 \n",
      " conv2d_1 (Conv2D)           (None, 320, 320, 128)     73856     \n",
      "                                                                 \n",
      " max_pooling2d (MaxPooling2D  (None, 160, 160, 128)    0         \n",
      " )                                                               \n",
      "                                                                 \n",
      " conv2d_2 (Conv2D)           (None, 160, 160, 128)     147584    \n",
      "                                                                 \n",
      " conv2d_3 (Conv2D)           (None, 160, 160, 256)     295168    \n",
      "                                                                 \n",
      " max_pooling2d_1 (MaxPooling  (None, 80, 80, 256)      0         \n",
      " 2D)                                                             \n",
      "                                                                 \n",
      " flatten (Flatten)           (None, 1638400)           0         \n",
      "                                                                 \n",
      " dense (Dense)               (None, 80)                131072080 \n",
      "                                                                 \n",
      " dense_1 (Dense)             (None, 30)                2430      \n",
      "                                                                 \n",
      " dense_2 (Dense)             (None, 4)                 124       \n",
      "                                                                 \n",
      "=================================================================\n",
      "Total params: 131,593,034\n",
      "Trainable params: 131,593,034\n",
      "Non-trainable params: 0\n",
      "_________________________________________________________________\n"
     ]
    }
   ],
   "source": [
    "model.summary()"
   ]
  },
  {
   "cell_type": "code",
   "execution_count": 23,
   "id": "628efb6b",
   "metadata": {},
   "outputs": [
    {
     "data": {
      "text/plain": [
       "dtype('float64')"
      ]
     },
     "execution_count": 23,
     "metadata": {},
     "output_type": "execute_result"
    }
   ],
   "source": [
    "x_train.dtype"
   ]
  },
  {
   "cell_type": "code",
   "execution_count": 22,
   "id": "0e5aedeb",
   "metadata": {},
   "outputs": [
    {
     "data": {
      "text/plain": [
       "array([[[0.59215686, 0.59215686, 0.58431373],\n",
       "        [0.64313725, 0.64313725, 0.63529412],\n",
       "        [0.63921569, 0.63921569, 0.63137255],\n",
       "        ...,\n",
       "        [0.56078431, 0.56470588, 0.54509804],\n",
       "        [0.43137255, 0.43529412, 0.41568627],\n",
       "        [0.5372549 , 0.54117647, 0.52156863]],\n",
       "\n",
       "       [[0.61960784, 0.61960784, 0.61176471],\n",
       "        [0.55686275, 0.55686275, 0.54901961],\n",
       "        [0.59215686, 0.59215686, 0.58823529],\n",
       "        ...,\n",
       "        [0.43921569, 0.44313725, 0.42352941],\n",
       "        [0.42745098, 0.43137255, 0.41176471],\n",
       "        [0.4745098 , 0.47843137, 0.45882353]],\n",
       "\n",
       "       [[0.54117647, 0.54117647, 0.53333333],\n",
       "        [0.57254902, 0.57254902, 0.56470588],\n",
       "        [0.58039216, 0.58039216, 0.57254902],\n",
       "        ...,\n",
       "        [0.40392157, 0.40784314, 0.38823529],\n",
       "        [0.49019608, 0.49411765, 0.4745098 ],\n",
       "        [0.51764706, 0.52156863, 0.50196078]],\n",
       "\n",
       "       ...,\n",
       "\n",
       "       [[0.32941176, 0.30588235, 0.30588235],\n",
       "        [0.36078431, 0.3372549 , 0.3372549 ],\n",
       "        [0.41568627, 0.40392157, 0.39607843],\n",
       "        ...,\n",
       "        [0.47058824, 0.45882353, 0.43137255],\n",
       "        [0.47843137, 0.46666667, 0.43137255],\n",
       "        [0.47058824, 0.45882353, 0.42352941]],\n",
       "\n",
       "       [[0.30980392, 0.28235294, 0.27058824],\n",
       "        [0.45490196, 0.43137255, 0.42745098],\n",
       "        [0.50588235, 0.49411765, 0.48627451],\n",
       "        ...,\n",
       "        [0.50588235, 0.49411765, 0.46666667],\n",
       "        [0.50588235, 0.49411765, 0.45882353],\n",
       "        [0.46666667, 0.45882353, 0.41568627]],\n",
       "\n",
       "       [[0.45098039, 0.41960784, 0.41176471],\n",
       "        [0.4627451 , 0.43529412, 0.43529412],\n",
       "        [0.34509804, 0.3254902 , 0.3254902 ],\n",
       "        ...,\n",
       "        [0.37647059, 0.36470588, 0.3372549 ],\n",
       "        [0.45490196, 0.44313725, 0.40392157],\n",
       "        [0.63137255, 0.62352941, 0.57647059]]])"
      ]
     },
     "execution_count": 22,
     "metadata": {},
     "output_type": "execute_result"
    }
   ],
   "source": [
    "x_train[3]"
   ]
  },
  {
   "cell_type": "code",
   "execution_count": 16,
   "id": "c31ead31",
   "metadata": {},
   "outputs": [],
   "source": [
    "num_epochs = 10\n",
    "num_train_samples = x_train.shape[0]\n",
    "batch_size = 32\n",
    "num_batches = num_train_samples // batch_size"
   ]
  },
  {
   "cell_type": "code",
   "execution_count": 18,
   "id": "bc84fdd3",
   "metadata": {},
   "outputs": [
    {
     "ename": "InternalError",
     "evalue": "Failed copying input tensor from /job:localhost/replica:0/task:0/device:CPU:0 to /job:localhost/replica:0/task:0/device:GPU:0 in order to run _EagerConst: Dst tensor is not initialized.",
     "output_type": "error",
     "traceback": [
      "\u001b[1;31m---------------------------------------------------------------------------\u001b[0m",
      "\u001b[1;31mInternalError\u001b[0m                             Traceback (most recent call last)",
      "Cell \u001b[1;32mIn[18], line 12\u001b[0m\n\u001b[0;32m      8\u001b[0m         y_batch \u001b[38;5;241m=\u001b[39m y_train[start_idx:end_idx]\n\u001b[0;32m     10\u001b[0m         executor\u001b[38;5;241m.\u001b[39msubmit(model\u001b[38;5;241m.\u001b[39mtrain_on_batch, x_batch, y_batch)\n\u001b[1;32m---> 12\u001b[0m loss, accuracy \u001b[38;5;241m=\u001b[39m \u001b[43mmodel\u001b[49m\u001b[38;5;241;43m.\u001b[39;49m\u001b[43mevaluate\u001b[49m\u001b[43m(\u001b[49m\u001b[43mx_test\u001b[49m\u001b[43m,\u001b[49m\u001b[43m \u001b[49m\u001b[43my_test\u001b[49m\u001b[43m)\u001b[49m\n\u001b[0;32m     13\u001b[0m \u001b[38;5;28mprint\u001b[39m(\u001b[38;5;124m\"\u001b[39m\u001b[38;5;124mEpoch:\u001b[39m\u001b[38;5;124m\"\u001b[39m, epoch\u001b[38;5;241m+\u001b[39m\u001b[38;5;241m1\u001b[39m, \u001b[38;5;124m\"\u001b[39m\u001b[38;5;124mLoss:\u001b[39m\u001b[38;5;124m\"\u001b[39m, loss, \u001b[38;5;124m\"\u001b[39m\u001b[38;5;124mAccuracy:\u001b[39m\u001b[38;5;124m\"\u001b[39m, accuracy)\n",
      "File \u001b[1;32m~\\anaconda3\\envs\\caterpillar-kernel\\lib\\site-packages\\keras\\utils\\traceback_utils.py:70\u001b[0m, in \u001b[0;36mfilter_traceback.<locals>.error_handler\u001b[1;34m(*args, **kwargs)\u001b[0m\n\u001b[0;32m     67\u001b[0m     filtered_tb \u001b[38;5;241m=\u001b[39m _process_traceback_frames(e\u001b[38;5;241m.\u001b[39m__traceback__)\n\u001b[0;32m     68\u001b[0m     \u001b[38;5;66;03m# To get the full stack trace, call:\u001b[39;00m\n\u001b[0;32m     69\u001b[0m     \u001b[38;5;66;03m# `tf.debugging.disable_traceback_filtering()`\u001b[39;00m\n\u001b[1;32m---> 70\u001b[0m     \u001b[38;5;28;01mraise\u001b[39;00m e\u001b[38;5;241m.\u001b[39mwith_traceback(filtered_tb) \u001b[38;5;28;01mfrom\u001b[39;00m \u001b[38;5;28;01mNone\u001b[39;00m\n\u001b[0;32m     71\u001b[0m \u001b[38;5;28;01mfinally\u001b[39;00m:\n\u001b[0;32m     72\u001b[0m     \u001b[38;5;28;01mdel\u001b[39;00m filtered_tb\n",
      "File \u001b[1;32m~\\anaconda3\\envs\\caterpillar-kernel\\lib\\site-packages\\tensorflow\\python\\framework\\constant_op.py:102\u001b[0m, in \u001b[0;36mconvert_to_eager_tensor\u001b[1;34m(value, ctx, dtype)\u001b[0m\n\u001b[0;32m    100\u001b[0m     dtype \u001b[38;5;241m=\u001b[39m dtypes\u001b[38;5;241m.\u001b[39mas_dtype(dtype)\u001b[38;5;241m.\u001b[39mas_datatype_enum\n\u001b[0;32m    101\u001b[0m ctx\u001b[38;5;241m.\u001b[39mensure_initialized()\n\u001b[1;32m--> 102\u001b[0m \u001b[38;5;28;01mreturn\u001b[39;00m \u001b[43mops\u001b[49m\u001b[38;5;241;43m.\u001b[39;49m\u001b[43mEagerTensor\u001b[49m\u001b[43m(\u001b[49m\u001b[43mvalue\u001b[49m\u001b[43m,\u001b[49m\u001b[43m \u001b[49m\u001b[43mctx\u001b[49m\u001b[38;5;241;43m.\u001b[39;49m\u001b[43mdevice_name\u001b[49m\u001b[43m,\u001b[49m\u001b[43m \u001b[49m\u001b[43mdtype\u001b[49m\u001b[43m)\u001b[49m\n",
      "\u001b[1;31mInternalError\u001b[0m: Failed copying input tensor from /job:localhost/replica:0/task:0/device:CPU:0 to /job:localhost/replica:0/task:0/device:GPU:0 in order to run _EagerConst: Dst tensor is not initialized."
     ]
    }
   ],
   "source": [
    "for epoch in range(num_epochs):\n",
    "    for batch in range(num_batches):\n",
    "        start_idx = batch * batch_size\n",
    "        end_idx = start_idx + batch_size\n",
    "        x_batch = x_train[start_idx:end_idx]\n",
    "        y_batch = y_train[start_idx:end_idx]\n",
    "        loss, accuracy = model.train_on_batch(x_batch, y_batch)\n",
    "            \n",
    "    print(\"Epoch:\", epoch+1, \"Loss:\", loss, \"Accuracy:\", accuracy)"
   ]
  },
  {
   "cell_type": "code",
   "execution_count": null,
   "id": "5d295bdf",
   "metadata": {},
   "outputs": [],
   "source": []
  }
 ],
 "metadata": {
  "kernelspec": {
   "display_name": "caterpillar-kernel",
   "language": "python",
   "name": "caterpillar-kernel"
  },
  "language_info": {
   "codemirror_mode": {
    "name": "ipython",
    "version": 3
   },
   "file_extension": ".py",
   "mimetype": "text/x-python",
   "name": "python",
   "nbconvert_exporter": "python",
   "pygments_lexer": "ipython3",
   "version": "3.9.16"
  }
 },
 "nbformat": 4,
 "nbformat_minor": 5
}
